{
  "nbformat": 4,
  "nbformat_minor": 0,
  "metadata": {
    "colab": {
      "provenance": [],
      "authorship_tag": "ABX9TyMqqyhb3DrWzfYtg7Qz6lVL",
      "include_colab_link": true
    },
    "kernelspec": {
      "name": "python3",
      "display_name": "Python 3"
    },
    "language_info": {
      "name": "python"
    }
  },
  "cells": [
    {
      "cell_type": "markdown",
      "metadata": {
        "id": "view-in-github",
        "colab_type": "text"
      },
      "source": [
        "<a href=\"https://colab.research.google.com/github/CarrilhoVitor/Tecnica-de-desenvolvimento-e-algoritmo/blob/main/aula2_tecnicasdedesenvolvimentoalg_Vitorcarrilho.ipynb\" target=\"_parent\"><img src=\"https://colab.research.google.com/assets/colab-badge.svg\" alt=\"Open In Colab\"/></a>"
      ]
    },
    {
      "cell_type": "code",
      "execution_count": null,
      "metadata": {
        "colab": {
          "base_uri": "https://localhost:8080/"
        },
        "id": "8VIEIdb8OVgn",
        "outputId": "aeb3ca33-3da1-4490-8899-2a13b82f7391"
      },
      "outputs": [
        {
          "output_type": "stream",
          "name": "stdout",
          "text": [
            "informe um numero real11.1\n",
            "o número informado é maior ou igual a 10\n",
            "11.1\n"
          ]
        }
      ],
      "source": [
        "# 1. Elabore um programa que solicite ao usuário um número real e ao final imprima na tela se o número informado é maior que 10 (dez)\n",
        "\n",
        "n1 = float(input(\"informe um numero real\"))\n",
        "\n",
        "if n1 > 10:\n",
        "  print(\"o número informado é maior que 10\")\n",
        "\n",
        "else:\n",
        "  print(\"o numero informado é menor que 10\")\n",
        "\n",
        "print(n1)\n"
      ]
    },
    {
      "cell_type": "code",
      "source": [
        "#2. Escreva um programa que solicite ao usuário um número real e ao final imprima na tela se o número informado é maior ou igual a dez ou menor que 10 (dez)\n",
        "\n",
        "n1 = float(input(\"digite um numero real\"))\n",
        "\n",
        "if n1 >= 10:\n",
        "  print(\"o numero é meior ou igual a 10\")\n",
        "\n",
        "else:\n",
        "  print(\"o numero é menor que 10\")"
      ],
      "metadata": {
        "colab": {
          "base_uri": "https://localhost:8080/"
        },
        "id": "GspDX0bXR5at",
        "outputId": "1d52789d-b760-4719-ec25-7a9e4b0c1422"
      },
      "execution_count": null,
      "outputs": [
        {
          "output_type": "stream",
          "name": "stdout",
          "text": [
            "digite um numero real1.1\n",
            "o numero é menor que 10\n"
          ]
        }
      ]
    },
    {
      "cell_type": "code",
      "source": [
        "# 3. Elabore um algoritmo que solicite ao usuário um número real e ao final imprima na tela se o número informado é maior que dez, se é menor que dez, ou se é igual a dez\n",
        "\n",
        "n1 = float(input(\"digite um numero\"))\n",
        "\n",
        "if n1 > 10:\n",
        "  print(\"o numero é maior que 10\")\n",
        "\n",
        "if n1 < 10:\n",
        "  print(\"o numero é menor que 10\")\n",
        "\n",
        "if n1 == 10:\n",
        "  print(\"o numero é igual a 10\")\n"
      ],
      "metadata": {
        "colab": {
          "base_uri": "https://localhost:8080/"
        },
        "id": "eiOODkJpS6p0",
        "outputId": "2fe9f071-7f4b-40b3-9db7-b1573c860243"
      },
      "execution_count": null,
      "outputs": [
        {
          "output_type": "stream",
          "name": "stdout",
          "text": [
            "digite um numero11.0\n",
            "o numero é maior que 10\n"
          ]
        }
      ]
    },
    {
      "cell_type": "code",
      "source": [
        "# 4. Elabore um algoritmo que solicite ao usuário um número real e ao final imprima na tela se o número informado é positivo, negativo ou nulo (zero)\n",
        "\n",
        "n1 = float(input(\"digite um nuemro\"))\n",
        "\n",
        "if n1 >= 0:\n",
        "  print(\"o numero é positivo\")\n",
        "\n",
        "else:\n",
        "  print(\"o numero é negativo\")"
      ],
      "metadata": {
        "colab": {
          "base_uri": "https://localhost:8080/"
        },
        "id": "hf81VubUUPhE",
        "outputId": "71fab870-e8dc-4481-e3f8-42c09cec9d71"
      },
      "execution_count": null,
      "outputs": [
        {
          "output_type": "stream",
          "name": "stdout",
          "text": [
            "digite um nuemro-6\n",
            "o numero é negativo\n"
          ]
        }
      ]
    },
    {
      "cell_type": "code",
      "source": [
        "# 5. Elabore um algoritmo que leia um número inteiro e imprima uma das mensagens: é múltiplo de 3, ou, não é múltiplo de 3\n",
        "\n",
        "n1 = int(input(\"digite um numero\"))\n",
        "\n",
        "if n1 % 3 == 0:\n",
        "  print(\"o numero é multiplpo de 3\")\n",
        "\n",
        "else:\n",
        "  print(\"o numero não é multiplo de 3\")"
      ],
      "metadata": {
        "colab": {
          "base_uri": "https://localhost:8080/"
        },
        "id": "LK6hDgnqU8dr",
        "outputId": "3fce9c9e-f932-4920-8d4f-b29a015a0e92"
      },
      "execution_count": null,
      "outputs": [
        {
          "output_type": "stream",
          "name": "stdout",
          "text": [
            "digite um numero4\n",
            "o numero não é multiplo de 3\n"
          ]
        }
      ]
    },
    {
      "cell_type": "code",
      "source": [
        "# 6. Refazer o exercício anterior, solicitando antes o múltiplo a ser testado\n",
        "\n",
        "n1 = int(input(\"digite um numero: \"))\n",
        "n2 = int(input(\"digite o numero a ser testado: \"))\n",
        "\n",
        "if n1 % n2 == 0:\n",
        "  print(n1, \" é multiplo de \", n2)\n",
        "\n",
        "else:\n",
        "  print(n1, \" não é multiplo de \", n2)"
      ],
      "metadata": {
        "colab": {
          "base_uri": "https://localhost:8080/"
        },
        "id": "X8EZodNJVn_V",
        "outputId": "be34ed7a-3a34-488f-8e90-75a7fc8aabad"
      },
      "execution_count": null,
      "outputs": [
        {
          "output_type": "stream",
          "name": "stdout",
          "text": [
            "digite um numero: 1\n",
            "digite o numero a ser testado: 2\n",
            "1  não é multiplo de  2\n"
          ]
        }
      ]
    },
    {
      "cell_type": "code",
      "source": [
        "# 7. Desenvolva um algoritmo que classifique um número inteiro fornecido pelo usuário como par ou ímpar\n",
        "\n",
        "n1 = int(input(\"digite um numero: \"))\n",
        "\n",
        "if n1 % 2 == 0:\n",
        "  print(\"o numero é par\")\n",
        "\n",
        "else:\n",
        "  print(\"o numero é impar\")"
      ],
      "metadata": {
        "colab": {
          "base_uri": "https://localhost:8080/"
        },
        "id": "dc8kkz21W-Ru",
        "outputId": "ec3660de-309b-460f-aa74-66106580bf77"
      },
      "execution_count": null,
      "outputs": [
        {
          "output_type": "stream",
          "name": "stdout",
          "text": [
            "digite um numero: 1\n",
            "o numero é impar\n"
          ]
        }
      ]
    },
    {
      "cell_type": "code",
      "source": [
        "# 8. Elabore um algoritmo que leia um número, e se ele for maior do que 20, imprimir a metade desse número, caso contrário, imprimir o dobro do número\n",
        "\n",
        "n1 = int(input(\"digite um numero: \"))\n",
        "\n",
        "if n1 > 20:\n",
        "  print(n1 / 2)\n",
        "\n",
        "else:\n",
        "  print(n1 * 2)"
      ],
      "metadata": {
        "colab": {
          "base_uri": "https://localhost:8080/"
        },
        "id": "AflKRkgJXVOW",
        "outputId": "598a8e5b-75a4-4b73-d541-5f14fee0460b"
      },
      "execution_count": null,
      "outputs": [
        {
          "output_type": "stream",
          "name": "stdout",
          "text": [
            "digite um numero: 2\n",
            "4\n"
          ]
        }
      ]
    },
    {
      "cell_type": "code",
      "source": [
        "# 9. Elabore um algoritmo que leia dois números inteiros e realize a adição; caso o resultado seja maior que 10, imprima o quadrado do resultado, caso contrário, imprima a metade dele\n",
        "\n",
        "n1 = int(input(\"digite um numero: \"))\n",
        "n2 = int(input(\"digite outro numero: \"))\n",
        "\n",
        "n3 = n1 + n2\n",
        "\n",
        "if n3 > 10:\n",
        "  print(n3 * 2)\n",
        "\n",
        "else:\n",
        "  print(n3 / 2)\n"
      ],
      "metadata": {
        "colab": {
          "base_uri": "https://localhost:8080/"
        },
        "id": "GYhaIj9yX4G0",
        "outputId": "83c5a625-5414-426d-f585-3e555d1c3db7"
      },
      "execution_count": null,
      "outputs": [
        {
          "output_type": "stream",
          "name": "stdout",
          "text": [
            "digite um numero: 20\n",
            "digite outro numero: 0\n",
            "40\n"
          ]
        }
      ]
    },
    {
      "cell_type": "code",
      "source": [
        "# 10. O sistema de avaliação de determinada disciplina é composto por três provas. A primeira prova tem peso 2, a segunda tem peso 3 e a terceira tem peso 5. Considerando que a média para aprovação é 6.0, faça um algoritmo para calcular a média final de um aluno desta disciplina e dizer se o aluno foi aprovado ou não\n",
        "\n",
        "n1 = float(input(\"Digite a nota da 1ª prova: \"))\n",
        "n2 = float(input(\"Digite a nota da 2ª prova: \"))\n",
        "n3 = float(input(\"Digite a nota da 3ª prova: \"))\n",
        "\n",
        "\n",
        "p1 = 2\n",
        "p2 = 3\n",
        "p3 = 5\n",
        "\n",
        "m = (n1 * p1 + n2 * p2 + n3 * p3) / (p1 + p2 + p3)\n",
        "\n",
        "print(f\"media final: {m:.2f}\")\n",
        "\n",
        "if m >= 6.0:\n",
        "    print(\"aluno aprvado \")\n",
        "else:\n",
        "    print(\"aluno reprovado\")\n"
      ],
      "metadata": {
        "colab": {
          "base_uri": "https://localhost:8080/"
        },
        "id": "SoFXLdVjZBht",
        "outputId": "b7c8505e-7317-4eb5-b004-c2db8e33daf7"
      },
      "execution_count": null,
      "outputs": [
        {
          "output_type": "stream",
          "name": "stdout",
          "text": [
            "Digite a nota da 1ª prova: 8\n",
            "Digite a nota da 2ª prova: 8\n",
            "Digite a nota da 3ª prova: 8\n",
            "Média final: 8.00\n",
            "aluno aprvado \n"
          ]
        }
      ]
    },
    {
      "cell_type": "code",
      "source": [
        "# 11. Elabore um algoritmo que leia o nome e o peso de duas pessoas e imprima o nome da pessoa mais pesada\n",
        "\n",
        "nome1 = input(\"Digite o nome da primeira pessoa: \")\n",
        "peso1 = float(input(f\"Digite o peso de {nome1}: \"))\n",
        "\n",
        "nome2 = input(\"Digite o nome da segunda pessoa: \")\n",
        "peso2 = float(input(f\"Digite o peso de {nome2}: \"))\n",
        "\n",
        "if peso1 > peso2:\n",
        "    print(f\"A pessoa mais pesada é: {nome1} com {peso1} kg\")\n",
        "elif peso2 > peso1:\n",
        "    print(f\"A pessoa mais pesada é: {nome2} com {peso2} kg\")\n",
        "else:\n",
        "    print(f\"As duas pessoas têm o mesmo peso: {peso1} kg\")\n"
      ],
      "metadata": {
        "id": "3x1NOsafbf9e"
      },
      "execution_count": null,
      "outputs": []
    },
    {
      "cell_type": "code",
      "source": [
        "# 12. Elabore um algoritmo que indique se um número digitado está compreendido entre 20 e 90, ou não\n",
        "\n",
        "numero = float(input(\"Digite um número: \"))\n",
        "\n",
        "if 20 <= numero <= 90:\n",
        "    print(f\"O número {numero} está entre 20 e 90.\")\n",
        "else:\n",
        "    print(f\"O número {numero} NÃO está entre 20 e 90.\")\n"
      ],
      "metadata": {
        "id": "PEPZdIRWb1IM"
      },
      "execution_count": null,
      "outputs": []
    },
    {
      "cell_type": "code",
      "source": [
        "# 14. Escreva um programa em linguagem C que solicite ao usuário a média para aprovação em um curso e em seguida solicite ao usuário o nome, sexo e as 03 notas do aluno e ao final imprima a frase: \"O aluno XXXXX foi aprovado com media YY\" considerando o gênero do(a) aluno(a) e se foi aprovado(a) ou reprovado(a)\n",
        "\n",
        "code = r'''\n",
        "#include <stdio.h>\n",
        "\n",
        "int main() {\n",
        "    float media_aprovacao, nota1, nota2, nota3, media;\n",
        "    char nome[50];\n",
        "    char sexo;\n",
        "\n",
        "    // Solicita a média para aprovação\n",
        "    printf(\"Digite a media para aprovacao: \");\n",
        "    scanf(\"%f\", &media_aprovacao);\n",
        "\n",
        "    // Solicita dados do aluno\n",
        "    printf(\"Digite o nome do aluno: \");\n",
        "    scanf(\"%s\", nome);\n",
        "\n",
        "    printf(\"Digite o sexo do aluno (M/F): \");\n",
        "    scanf(\" %c\", &sexo);\n",
        "\n",
        "    printf(\"Digite as 3 notas do aluno: \");\n",
        "    scanf(\"%f %f %f\", &nota1, &nota2, &nota3);\n",
        "\n",
        "    // Calcula a média\n",
        "    media = (nota1 + nota2 + nota3) / 3.0;\n",
        "\n",
        "    // Verifica aprovação e imprime mensagem adequada\n",
        "    if (media >= media_aprovacao) {\n",
        "        if (sexo == 'M' || sexo == 'm') {\n",
        "            printf(\"O aluno %s foi aprovado com media %.2f\\n\", nome, media);\n",
        "        } else {\n",
        "            printf(\"A aluna %s foi aprovada com media %.2f\\n\", nome, media);\n",
        "        }\n",
        "    } else {\n",
        "        if (sexo == 'M' || sexo == 'm') {\n",
        "            printf(\"O aluno %s foi reprovado com media %.2f\\n\", nome, media);\n",
        "        } else {\n",
        "            printf(\"A aluna %s foi reprovada com media %.2f\\n\", nome, media);\n",
        "        }\n",
        "    }\n",
        "\n",
        "    return 0;\n",
        "}\n",
        "'''\n",
        "\n",
        "with open(\"aluno.c\", \"w\") as f:\n",
        "    f.write(code)\n",
        "\n",
        "!gcc aluno.c -o aluno\n",
        "\n",
        "!./aluno\n"
      ],
      "metadata": {
        "colab": {
          "base_uri": "https://localhost:8080/"
        },
        "id": "V2UH08BDciK3",
        "outputId": "03dc5de3-3b58-4c07-8a92-b7aa96532a80"
      },
      "execution_count": null,
      "outputs": [
        {
          "output_type": "stream",
          "name": "stdout",
          "text": [
            "Digite a media para aprovacao: 7\n",
            "Digite o nome do aluno: cleiton\n",
            "Digite o sexo do aluno (M/F): M\n",
            "Digite as 3 notas do aluno: 8\n",
            "8\n",
            "8\n",
            "O aluno cleiton foi aprovado com media 8.00\n"
          ]
        }
      ]
    }
  ]
}
