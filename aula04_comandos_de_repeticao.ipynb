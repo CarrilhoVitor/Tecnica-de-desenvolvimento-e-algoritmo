{
  "nbformat": 4,
  "nbformat_minor": 0,
  "metadata": {
    "colab": {
      "provenance": [],
      "authorship_tag": "ABX9TyM51ITpyBXLQRYRw6926PSu",
      "include_colab_link": true
    },
    "kernelspec": {
      "name": "python3",
      "display_name": "Python 3"
    },
    "language_info": {
      "name": "python"
    }
  },
  "cells": [
    {
      "cell_type": "markdown",
      "metadata": {
        "id": "view-in-github",
        "colab_type": "text"
      },
      "source": [
        "<a href=\"https://colab.research.google.com/github/CarrilhoVitor/Tecnica-de-desenvolvimento-e-algoritmo/blob/main/aula04_comandos_de_repeticao.ipynb\" target=\"_parent\"><img src=\"https://colab.research.google.com/assets/colab-badge.svg\" alt=\"Open In Colab\"/></a>"
      ]
    },
    {
      "cell_type": "code",
      "metadata": {
        "colab": {
          "base_uri": "https://localhost:8080/"
        },
        "id": "a2251911",
        "outputId": "8e33e060-d5e9-49b6-9461-d68f521deef1"
      },
      "source": [
        "#1. Elabore um algoritmo que imprima na tela lado a lado o texto \"Hello World!\" 10 vezes.\n",
        "print(\"Hello World! \" * 10)"
      ],
      "execution_count": 1,
      "outputs": [
        {
          "output_type": "stream",
          "name": "stdout",
          "text": [
            "Hello World! Hello World! Hello World! Hello World! Hello World! Hello World! Hello World! Hello World! Hello World! Hello World! \n"
          ]
        }
      ]
    },
    {
      "cell_type": "code",
      "source": [
        "#2. Elabore um algoritmo que imprima na tela o texto \"Hello World!\" 10 vezes, um por linha."
      ],
      "metadata": {
        "id": "RNQdGLJSUuNT"
      },
      "execution_count": null,
      "outputs": []
    },
    {
      "cell_type": "code",
      "metadata": {
        "id": "18595fab"
      },
      "source": [
        "#2. Elabore um algoritmo que imprima na tela o texto \"Hello World!\" 10 vezes, um por linha.\n",
        "for _ in range(10):\n",
        "  print(\"Hello World!\")"
      ],
      "execution_count": null,
      "outputs": []
    },
    {
      "cell_type": "code",
      "source": [
        "#3. Elabore um algoritmo que imprima todos os números inteiros de 1 até 100 inclusive"
      ],
      "metadata": {
        "id": "iwhJ39dvU3vt"
      },
      "execution_count": null,
      "outputs": []
    },
    {
      "cell_type": "code",
      "metadata": {
        "id": "55ced5ed"
      },
      "source": [
        "#3. Elabore um algoritmo que imprima todos os números inteiros de 1 até 100 inclusive\n",
        "for i in range(1, 101):\n",
        "  print(i)"
      ],
      "execution_count": null,
      "outputs": []
    },
    {
      "cell_type": "code",
      "source": [
        "#4. Elabore um algoritmo que imprima 100 vezes o texto \"1- Hello World!\" com o número."
      ],
      "metadata": {
        "id": "L1TgKp0vVDls"
      },
      "execution_count": null,
      "outputs": []
    },
    {
      "cell_type": "code",
      "metadata": {
        "id": "80d457eb"
      },
      "source": [
        "#4. Elabore um algoritmo que imprima 100 vezes o texto \"1- Hello World!\" com o número.\n",
        "for i in range(1, 101):\n",
        "  print(f\"{i}- Hello World!\")"
      ],
      "execution_count": null,
      "outputs": []
    },
    {
      "cell_type": "code",
      "metadata": {
        "id": "305568f5"
      },
      "source": [
        "#5. Elabore um algoritmo que imprima todos os números decrescentes de 100 até 0 inclusive.\n",
        "for i in range(100, -1, -1):\n",
        "  print(i)"
      ],
      "execution_count": null,
      "outputs": []
    },
    {
      "cell_type": "code",
      "metadata": {
        "id": "164a32e1"
      },
      "source": [
        "#6. Elabore um algoritmo que imprima todos os números pares inteiros de 1 até 1000.\n",
        "for i in range(2, 1001, 2):\n",
        "  print(i)"
      ],
      "execution_count": null,
      "outputs": []
    },
    {
      "cell_type": "code",
      "metadata": {
        "id": "5f2f18cd"
      },
      "source": [
        "#7. Elabore um algoritmo que imprima todos os números ímpares de 1000 até 0\n",
        "for i in range(999, 0, -2):\n",
        "  print(i)"
      ],
      "execution_count": null,
      "outputs": []
    },
    {
      "cell_type": "code",
      "metadata": {
        "id": "60924595"
      },
      "source": [
        "#8. Elabore um algoritmo que imprima a soma dos 100 primeiros números inteiros positivos.\n",
        "soma = 0\n",
        "for i in range(1, 101):\n",
        "  soma += i\n",
        "print(soma)"
      ],
      "execution_count": null,
      "outputs": []
    },
    {
      "cell_type": "code",
      "metadata": {
        "id": "03cd1f04"
      },
      "source": [
        "#9. Elabore um algoritmo que solicite ao usuário um número inteiro que indicará a quantidade\n",
        "# de vezes que o texto \"Hello World!\" será impresso na tela, um em cada linha\n",
        "\n",
        "quantidade = int(input(\"Digite a quantidade de vezes para imprimir 'Hello World!': \"))\n",
        "\n",
        "for _ in range(quantidade):\n",
        "  print(\"Hello World!\")"
      ],
      "execution_count": null,
      "outputs": []
    },
    {
      "cell_type": "code",
      "metadata": {
        "id": "9b3b338a"
      },
      "source": [
        "#10. Elabore um algoritmo que solicite ao usuário uma palavra e um número inteiro que\n",
        "# indicará a quantidade de vezes que a palavra digitada será impressa na tela, um em cada\n",
        "# linha.\n",
        "\n",
        "palavra = input(\"Digite uma palavra: \")\n",
        "quantidade = int(input(\"Digite a quantidade de vezes para imprimir a palavra: \"))\n",
        "\n",
        "for _ in range(quantidade):\n",
        "  print(palavra)"
      ],
      "execution_count": null,
      "outputs": []
    },
    {
      "cell_type": "code",
      "metadata": {
        "id": "c4f8bb75"
      },
      "source": [
        "#11. Elabore um algoritmo que leia um número de entrada que indicará a quantidade de\n",
        "# números a serem lidos. Em seguida, leia n números (conforme o valor informado\n",
        "# anteriormente) e imprima a soma e a média aritmética dos números informados.\n",
        "\n",
        "quantidade_numeros = int(input(\"Digite a quantidade de números a serem lidos: \"))\n",
        "soma = 0\n",
        "\n",
        "for i in range(quantidade_numeros):\n",
        "  numero = float(input(f\"Digite o número {i+1}: \"))\n",
        "  soma += numero\n",
        "\n",
        "media = soma / quantidade_numeros\n",
        "\n",
        "print(f\"A soma dos números é: {soma}\")\n",
        "print(f\"A média aritmética dos números é: {media}\")"
      ],
      "execution_count": null,
      "outputs": []
    },
    {
      "cell_type": "code",
      "metadata": {
        "id": "ed98d0e4"
      },
      "source": [
        "# 12. Elabore um algoritmo que leia um número de entrada que indicará a quantidade de\n",
        "# registros a serem lidos (N). Em seguida algoritmo deve solicitar o nome e idade de N\n",
        "# pessoas e ao final apresentar o nome da pessoa mais velha.\n",
        "\n",
        "quantidade_registros = int(input(\"Digite a quantidade de registros a serem lidos: \"))\n",
        "\n",
        "pessoa_mais_velha = \"\"\n",
        "idade_mais_velha = -1\n",
        "\n",
        "for i in range(quantidade_registros):\n",
        "  nome = input(f\"Digite o nome da pessoa {i+1}: \")\n",
        "  idade = int(input(f\"Digite a idade de {nome}: \"))\n",
        "\n",
        "  if idade > idade_mais_velha:\n",
        "    idade_mais_velha = idade\n",
        "    pessoa_mais_velha = nome\n",
        "\n",
        "print(f\"A pessoa mais velha é: {pessoa_mais_velha}\")"
      ],
      "execution_count": null,
      "outputs": []
    },
    {
      "cell_type": "code",
      "metadata": {
        "id": "81a263e6"
      },
      "source": [
        "# 13. Elabore um algoritmo que leia um número de entrada que indicará a quantidade de\n",
        "# registros a serem lidos (N). Em seguida algoritmo deve solicitar o sexo (M/F) e idade de N\n",
        "# pessoas e ao final apresentar a média de idade de ambos os gêneros catalogados\n",
        "\n",
        "quantidade_registros = int(input(\"Digite a quantidade de registros a serem lidos: \"))\n",
        "\n",
        "soma_idade_m = 0\n",
        "count_m = 0\n",
        "soma_idade_f = 0\n",
        "count_f = 0\n",
        "\n",
        "for i in range(quantidade_registros):\n",
        "  sexo = input(f\"Digite o sexo da pessoa {i+1} (M/F): \").upper()\n",
        "  idade = int(input(f\"Digite a idade da pessoa {i+1}: \"))\n",
        "\n",
        "  if sexo == 'M':\n",
        "    soma_idade_m += idade\n",
        "    count_m += 1\n",
        "  elif sexo == 'F':\n",
        "    soma_idade_f += idade\n",
        "    count_f += 1\n",
        "  else:\n",
        "    print(\"Sexo inválido. Use M ou F.\")\n",
        "\n",
        "media_idade_m = soma_idade_m / count_m if count_m > 0 else 0\n",
        "media_idade_f = soma_idade_f / count_f if count_f > 0 else 0\n",
        "\n",
        "print(f\"Média de idade para homens (M): {media_idade_m:.2f}\")\n",
        "print(f\"Média de idade para mulheres (F): {media_idade_f:.2f}\")"
      ],
      "execution_count": null,
      "outputs": []
    },
    {
      "cell_type": "code",
      "metadata": {
        "id": "b0472798"
      },
      "source": [
        "# 14. Elabore um algoritmo que solicite ao usuário 10 números reais e ao final apresente o\n",
        "# maior e o menor deles.\n",
        "\n",
        "maior_numero = float('-inf')  # Inicializa com o menor valor possível\n",
        "menor_numero = float('inf')   # Inicializa com o maior valor possível\n",
        "\n",
        "for i in range(10):\n",
        "  numero = float(input(f\"Digite o número {i+1}: \"))\n",
        "\n",
        "  if numero > maior_numero:\n",
        "    maior_numero = numero\n",
        "\n",
        "  if numero < menor_numero:\n",
        "    menor_numero = numero\n",
        "\n",
        "print(f\"O maior número digitado é: {maior_numero}\")\n",
        "print(f\"O menor número digitado é: {menor_numero}\")"
      ],
      "execution_count": null,
      "outputs": []
    },
    {
      "cell_type": "code",
      "metadata": {
        "id": "392946a2"
      },
      "source": [
        "# 15. Elabore um algoritmo que solicite N números reais e quando o usuário informar o valor\n",
        "# nulo 0 (zero) o programa ordene e mostre todos os números informados de forma crescente.\n",
        "\n",
        "numeros = []\n",
        "\n",
        "while True:\n",
        "  numero = float(input(\"Digite um número real (digite 0 para parar): \"))\n",
        "  if numero == 0:\n",
        "    break\n",
        "  numeros.append(numero)\n",
        "\n",
        "numeros.sort()\n",
        "\n",
        "print(\"Números informados em ordem crescente:\")\n",
        "for num in numeros:\n",
        "  print(num)"
      ],
      "execution_count": null,
      "outputs": []
    },
    {
      "cell_type": "markdown",
      "metadata": {
        "id": "db1ed6d0"
      },
      "source": [
        "# Task\n",
        "Elabore um algoritmo que vá solicitando as idades dos alunos da sala até que todos sejam informados (perguntar ao usuário se deseja informar a idade do próximo aluno). Ao final apresentar a idade do mais novo, a idade do mais velho, Quantos alunos têm mais de 18 anos, quantos alunos têm até 18 anos, a média aritmética e a mediana."
      ]
    },
    {
      "cell_type": "markdown",
      "metadata": {
        "id": "2442e89a"
      },
      "source": [
        "## Coleta de dados\n",
        "\n",
        "### Subtask:\n",
        "Solicitar a idade de cada aluno até que o usuário decida parar. Armazenar as idades em uma lista.\n"
      ]
    },
    {
      "cell_type": "markdown",
      "metadata": {
        "id": "5e3a8346"
      },
      "source": [
        "**Reasoning**:\n",
        "Initialize an empty list and start a loop to collect ages from the user until they decide to stop. Inside the loop, prompt for the age, convert it to an integer, append it to the list, and ask if they want to continue.\n",
        "\n"
      ]
    },
    {
      "cell_type": "code",
      "metadata": {
        "colab": {
          "base_uri": "https://localhost:8080/",
          "height": 1000
        },
        "collapsed": true,
        "id": "f71ceb88",
        "outputId": "c7b71b5d-3a94-4fef-d0f4-6e5d11dd50c8"
      },
      "source": [
        "idades = []\n",
        "\n",
        "while True:\n",
        "  idade_str = input(\"Digite a idade do próximo aluno: \")\n",
        "  try:\n",
        "    idade = int(idade_str)\n",
        "    idades.append(idade)\n",
        "  except ValueError:\n",
        "    print(\"Entrada inválida. Por favor, digite um número inteiro para a idade.\")\n",
        "    continue\n",
        "\n",
        "  continuar = input(\"Deseja informar a idade de outro aluno? (s/n): \").lower()\n",
        "  if continuar != 's':\n",
        "    break"
      ],
      "execution_count": 2,
      "outputs": [
        {
          "output_type": "stream",
          "name": "stderr",
          "text": [
            "ERROR:root:Internal Python error in the inspect module.\n",
            "Below is the traceback from this internal error.\n",
            "\n"
          ]
        },
        {
          "output_type": "stream",
          "name": "stdout",
          "text": [
            "Traceback (most recent call last):\n",
            "  File \"/usr/local/lib/python3.12/dist-packages/IPython/core/interactiveshell.py\", line 3553, in run_code\n",
            "    exec(code_obj, self.user_global_ns, self.user_ns)\n",
            "  File \"/tmp/ipython-input-3828188480.py\", line 4, in <cell line: 0>\n",
            "    idade_str = input(\"Digite a idade do próximo aluno: \")\n",
            "                ^^^^^^^^^^^^^^^^^^^^^^^^^^^^^^^^^^^^^^^^^^\n",
            "  File \"/usr/local/lib/python3.12/dist-packages/ipykernel/kernelbase.py\", line 1177, in raw_input\n",
            "    return self._input_request(\n",
            "           ^^^^^^^^^^^^^^^^^^^^\n",
            "  File \"/usr/local/lib/python3.12/dist-packages/ipykernel/kernelbase.py\", line 1219, in _input_request\n",
            "    raise KeyboardInterrupt(\"Interrupted by user\") from None\n",
            "KeyboardInterrupt: Interrupted by user\n",
            "\n",
            "During handling of the above exception, another exception occurred:\n",
            "\n",
            "Traceback (most recent call last):\n",
            "  File \"/usr/local/lib/python3.12/dist-packages/IPython/core/interactiveshell.py\", line 2099, in showtraceback\n",
            "    stb = value._render_traceback_()\n",
            "          ^^^^^^^^^^^^^^^^^^^^^^^^\n",
            "AttributeError: 'KeyboardInterrupt' object has no attribute '_render_traceback_'\n",
            "\n",
            "During handling of the above exception, another exception occurred:\n",
            "\n",
            "Traceback (most recent call last):\n",
            "  File \"/usr/local/lib/python3.12/dist-packages/IPython/core/ultratb.py\", line 1101, in get_records\n",
            "    return _fixed_getinnerframes(etb, number_of_lines_of_context, tb_offset)\n",
            "           ^^^^^^^^^^^^^^^^^^^^^^^^^^^^^^^^^^^^^^^^^^^^^^^^^^^^^^^^^^^^^^^^^\n",
            "  File \"/usr/local/lib/python3.12/dist-packages/IPython/core/ultratb.py\", line 248, in wrapped\n",
            "    return f(*args, **kwargs)\n",
            "           ^^^^^^^^^^^^^^^^^^\n",
            "  File \"/usr/local/lib/python3.12/dist-packages/IPython/core/ultratb.py\", line 281, in _fixed_getinnerframes\n",
            "    records = fix_frame_records_filenames(inspect.getinnerframes(etb, context))\n",
            "                                          ^^^^^^^^^^^^^^^^^^^^^^^^^^^^^^^^^^^^\n",
            "  File \"/usr/lib/python3.12/inspect.py\", line 1769, in getinnerframes\n",
            "    traceback_info = getframeinfo(tb, context)\n",
            "                     ^^^^^^^^^^^^^^^^^^^^^^^^^\n",
            "  File \"/usr/lib/python3.12/inspect.py\", line 1718, in getframeinfo\n",
            "    lines, lnum = findsource(frame)\n",
            "                  ^^^^^^^^^^^^^^^^^\n",
            "  File \"/usr/local/lib/python3.12/dist-packages/IPython/core/ultratb.py\", line 182, in findsource\n",
            "    lines = linecache.getlines(file, globals_dict)\n",
            "            ^^^^^^^^^^^^^^^^^^^^^^^^^^^^^^^^^^^^^^\n",
            "  File \"/usr/lib/python3.12/linecache.py\", line 46, in getlines\n",
            "    return updatecache(filename, module_globals)\n",
            "           ^^^^^^^^^^^^^^^^^^^^^^^^^^^^^^^^^^^^^\n",
            "  File \"/usr/lib/python3.12/linecache.py\", line 141, in updatecache\n",
            "    with tokenize.open(fullname) as fp:\n",
            "         ^^^^^^^^^^^^^^^^^^^^^^^\n",
            "  File \"/usr/lib/python3.12/tokenize.py\", line 459, in open\n",
            "    encoding, lines = detect_encoding(buffer.readline)\n",
            "                      ^^^^^^^^^^^^^^^^^^^^^^^^^^^^^^^^\n",
            "  File \"/usr/lib/python3.12/tokenize.py\", line 428, in detect_encoding\n",
            "    first = read_or_stop()\n",
            "            ^^^^^^^^^^^^^^\n",
            "  File \"/usr/lib/python3.12/tokenize.py\", line 386, in read_or_stop\n",
            "    return readline()\n",
            "           ^^^^^^^^^^\n",
            "KeyboardInterrupt\n"
          ]
        },
        {
          "output_type": "error",
          "ename": "TypeError",
          "evalue": "object of type 'NoneType' has no len()",
          "traceback": [
            "\u001b[0;31m---------------------------------------------------------------------------\u001b[0m",
            "\u001b[0;31mKeyboardInterrupt\u001b[0m                         Traceback (most recent call last)",
            "    \u001b[0;31m[... skipping hidden 1 frame]\u001b[0m\n",
            "\u001b[0;32m/tmp/ipython-input-3828188480.py\u001b[0m in \u001b[0;36m<cell line: 0>\u001b[0;34m()\u001b[0m\n\u001b[1;32m      3\u001b[0m \u001b[0;32mwhile\u001b[0m \u001b[0;32mTrue\u001b[0m\u001b[0;34m:\u001b[0m\u001b[0;34m\u001b[0m\u001b[0;34m\u001b[0m\u001b[0m\n\u001b[0;32m----> 4\u001b[0;31m   \u001b[0midade_str\u001b[0m \u001b[0;34m=\u001b[0m \u001b[0minput\u001b[0m\u001b[0;34m(\u001b[0m\u001b[0;34m\"Digite a idade do próximo aluno: \"\u001b[0m\u001b[0;34m)\u001b[0m\u001b[0;34m\u001b[0m\u001b[0;34m\u001b[0m\u001b[0m\n\u001b[0m\u001b[1;32m      5\u001b[0m   \u001b[0;32mtry\u001b[0m\u001b[0;34m:\u001b[0m\u001b[0;34m\u001b[0m\u001b[0;34m\u001b[0m\u001b[0m\n",
            "\u001b[0;32m/usr/local/lib/python3.12/dist-packages/ipykernel/kernelbase.py\u001b[0m in \u001b[0;36mraw_input\u001b[0;34m(self, prompt)\u001b[0m\n\u001b[1;32m   1176\u001b[0m             )\n\u001b[0;32m-> 1177\u001b[0;31m         return self._input_request(\n\u001b[0m\u001b[1;32m   1178\u001b[0m             \u001b[0mstr\u001b[0m\u001b[0;34m(\u001b[0m\u001b[0mprompt\u001b[0m\u001b[0;34m)\u001b[0m\u001b[0;34m,\u001b[0m\u001b[0;34m\u001b[0m\u001b[0;34m\u001b[0m\u001b[0m\n",
            "\u001b[0;32m/usr/local/lib/python3.12/dist-packages/ipykernel/kernelbase.py\u001b[0m in \u001b[0;36m_input_request\u001b[0;34m(self, prompt, ident, parent, password)\u001b[0m\n\u001b[1;32m   1218\u001b[0m                 \u001b[0;31m# re-raise KeyboardInterrupt, to truncate traceback\u001b[0m\u001b[0;34m\u001b[0m\u001b[0;34m\u001b[0m\u001b[0m\n\u001b[0;32m-> 1219\u001b[0;31m                 \u001b[0;32mraise\u001b[0m \u001b[0mKeyboardInterrupt\u001b[0m\u001b[0;34m(\u001b[0m\u001b[0;34m\"Interrupted by user\"\u001b[0m\u001b[0;34m)\u001b[0m \u001b[0;32mfrom\u001b[0m \u001b[0;32mNone\u001b[0m\u001b[0;34m\u001b[0m\u001b[0;34m\u001b[0m\u001b[0m\n\u001b[0m\u001b[1;32m   1220\u001b[0m             \u001b[0;32mexcept\u001b[0m \u001b[0mException\u001b[0m\u001b[0;34m:\u001b[0m\u001b[0;34m\u001b[0m\u001b[0;34m\u001b[0m\u001b[0m\n",
            "\u001b[0;31mKeyboardInterrupt\u001b[0m: Interrupted by user",
            "\nDuring handling of the above exception, another exception occurred:\n",
            "\u001b[0;31mAttributeError\u001b[0m                            Traceback (most recent call last)",
            "\u001b[0;32m/usr/local/lib/python3.12/dist-packages/IPython/core/interactiveshell.py\u001b[0m in \u001b[0;36mshowtraceback\u001b[0;34m(self, exc_tuple, filename, tb_offset, exception_only, running_compiled_code)\u001b[0m\n\u001b[1;32m   2098\u001b[0m                         \u001b[0;31m# in the engines. This should return a list of strings.\u001b[0m\u001b[0;34m\u001b[0m\u001b[0;34m\u001b[0m\u001b[0m\n\u001b[0;32m-> 2099\u001b[0;31m                         \u001b[0mstb\u001b[0m \u001b[0;34m=\u001b[0m \u001b[0mvalue\u001b[0m\u001b[0;34m.\u001b[0m\u001b[0m_render_traceback_\u001b[0m\u001b[0;34m(\u001b[0m\u001b[0;34m)\u001b[0m\u001b[0;34m\u001b[0m\u001b[0;34m\u001b[0m\u001b[0m\n\u001b[0m\u001b[1;32m   2100\u001b[0m                     \u001b[0;32mexcept\u001b[0m \u001b[0mException\u001b[0m\u001b[0;34m:\u001b[0m\u001b[0;34m\u001b[0m\u001b[0;34m\u001b[0m\u001b[0m\n",
            "\u001b[0;31mAttributeError\u001b[0m: 'KeyboardInterrupt' object has no attribute '_render_traceback_'",
            "\nDuring handling of the above exception, another exception occurred:\n",
            "\u001b[0;31mTypeError\u001b[0m                                 Traceback (most recent call last)",
            "    \u001b[0;31m[... skipping hidden 1 frame]\u001b[0m\n",
            "\u001b[0;32m/usr/local/lib/python3.12/dist-packages/IPython/core/interactiveshell.py\u001b[0m in \u001b[0;36mshowtraceback\u001b[0;34m(self, exc_tuple, filename, tb_offset, exception_only, running_compiled_code)\u001b[0m\n\u001b[1;32m   2099\u001b[0m                         \u001b[0mstb\u001b[0m \u001b[0;34m=\u001b[0m \u001b[0mvalue\u001b[0m\u001b[0;34m.\u001b[0m\u001b[0m_render_traceback_\u001b[0m\u001b[0;34m(\u001b[0m\u001b[0;34m)\u001b[0m\u001b[0;34m\u001b[0m\u001b[0;34m\u001b[0m\u001b[0m\n\u001b[1;32m   2100\u001b[0m                     \u001b[0;32mexcept\u001b[0m \u001b[0mException\u001b[0m\u001b[0;34m:\u001b[0m\u001b[0;34m\u001b[0m\u001b[0;34m\u001b[0m\u001b[0m\n\u001b[0;32m-> 2101\u001b[0;31m                         stb = self.InteractiveTB.structured_traceback(etype,\n\u001b[0m\u001b[1;32m   2102\u001b[0m                                             value, tb, tb_offset=tb_offset)\n\u001b[1;32m   2103\u001b[0m \u001b[0;34m\u001b[0m\u001b[0m\n",
            "\u001b[0;32m/usr/local/lib/python3.12/dist-packages/IPython/core/ultratb.py\u001b[0m in \u001b[0;36mstructured_traceback\u001b[0;34m(self, etype, value, tb, tb_offset, number_of_lines_of_context)\u001b[0m\n\u001b[1;32m   1365\u001b[0m         \u001b[0;32melse\u001b[0m\u001b[0;34m:\u001b[0m\u001b[0;34m\u001b[0m\u001b[0;34m\u001b[0m\u001b[0m\n\u001b[1;32m   1366\u001b[0m             \u001b[0mself\u001b[0m\u001b[0;34m.\u001b[0m\u001b[0mtb\u001b[0m \u001b[0;34m=\u001b[0m \u001b[0mtb\u001b[0m\u001b[0;34m\u001b[0m\u001b[0;34m\u001b[0m\u001b[0m\n\u001b[0;32m-> 1367\u001b[0;31m         return FormattedTB.structured_traceback(\n\u001b[0m\u001b[1;32m   1368\u001b[0m             self, etype, value, tb, tb_offset, number_of_lines_of_context)\n\u001b[1;32m   1369\u001b[0m \u001b[0;34m\u001b[0m\u001b[0m\n",
            "\u001b[0;32m/usr/local/lib/python3.12/dist-packages/IPython/core/ultratb.py\u001b[0m in \u001b[0;36mstructured_traceback\u001b[0;34m(self, etype, value, tb, tb_offset, number_of_lines_of_context)\u001b[0m\n\u001b[1;32m   1265\u001b[0m         \u001b[0;32mif\u001b[0m \u001b[0mmode\u001b[0m \u001b[0;32min\u001b[0m \u001b[0mself\u001b[0m\u001b[0;34m.\u001b[0m\u001b[0mverbose_modes\u001b[0m\u001b[0;34m:\u001b[0m\u001b[0;34m\u001b[0m\u001b[0;34m\u001b[0m\u001b[0m\n\u001b[1;32m   1266\u001b[0m             \u001b[0;31m# Verbose modes need a full traceback\u001b[0m\u001b[0;34m\u001b[0m\u001b[0;34m\u001b[0m\u001b[0m\n\u001b[0;32m-> 1267\u001b[0;31m             return VerboseTB.structured_traceback(\n\u001b[0m\u001b[1;32m   1268\u001b[0m                 \u001b[0mself\u001b[0m\u001b[0;34m,\u001b[0m \u001b[0metype\u001b[0m\u001b[0;34m,\u001b[0m \u001b[0mvalue\u001b[0m\u001b[0;34m,\u001b[0m \u001b[0mtb\u001b[0m\u001b[0;34m,\u001b[0m \u001b[0mtb_offset\u001b[0m\u001b[0;34m,\u001b[0m \u001b[0mnumber_of_lines_of_context\u001b[0m\u001b[0;34m\u001b[0m\u001b[0;34m\u001b[0m\u001b[0m\n\u001b[1;32m   1269\u001b[0m             )\n",
            "\u001b[0;32m/usr/local/lib/python3.12/dist-packages/IPython/core/ultratb.py\u001b[0m in \u001b[0;36mstructured_traceback\u001b[0;34m(self, etype, evalue, etb, tb_offset, number_of_lines_of_context)\u001b[0m\n\u001b[1;32m   1122\u001b[0m         \u001b[0;34m\"\"\"Return a nice text document describing the traceback.\"\"\"\u001b[0m\u001b[0;34m\u001b[0m\u001b[0;34m\u001b[0m\u001b[0m\n\u001b[1;32m   1123\u001b[0m \u001b[0;34m\u001b[0m\u001b[0m\n\u001b[0;32m-> 1124\u001b[0;31m         formatted_exception = self.format_exception_as_a_whole(etype, evalue, etb, number_of_lines_of_context,\n\u001b[0m\u001b[1;32m   1125\u001b[0m                                                                tb_offset)\n\u001b[1;32m   1126\u001b[0m \u001b[0;34m\u001b[0m\u001b[0m\n",
            "\u001b[0;32m/usr/local/lib/python3.12/dist-packages/IPython/core/ultratb.py\u001b[0m in \u001b[0;36mformat_exception_as_a_whole\u001b[0;34m(self, etype, evalue, etb, number_of_lines_of_context, tb_offset)\u001b[0m\n\u001b[1;32m   1080\u001b[0m \u001b[0;34m\u001b[0m\u001b[0m\n\u001b[1;32m   1081\u001b[0m \u001b[0;34m\u001b[0m\u001b[0m\n\u001b[0;32m-> 1082\u001b[0;31m         \u001b[0mlast_unique\u001b[0m\u001b[0;34m,\u001b[0m \u001b[0mrecursion_repeat\u001b[0m \u001b[0;34m=\u001b[0m \u001b[0mfind_recursion\u001b[0m\u001b[0;34m(\u001b[0m\u001b[0morig_etype\u001b[0m\u001b[0;34m,\u001b[0m \u001b[0mevalue\u001b[0m\u001b[0;34m,\u001b[0m \u001b[0mrecords\u001b[0m\u001b[0;34m)\u001b[0m\u001b[0;34m\u001b[0m\u001b[0;34m\u001b[0m\u001b[0m\n\u001b[0m\u001b[1;32m   1083\u001b[0m \u001b[0;34m\u001b[0m\u001b[0m\n\u001b[1;32m   1084\u001b[0m         \u001b[0mframes\u001b[0m \u001b[0;34m=\u001b[0m \u001b[0mself\u001b[0m\u001b[0;34m.\u001b[0m\u001b[0mformat_records\u001b[0m\u001b[0;34m(\u001b[0m\u001b[0mrecords\u001b[0m\u001b[0;34m,\u001b[0m \u001b[0mlast_unique\u001b[0m\u001b[0;34m,\u001b[0m \u001b[0mrecursion_repeat\u001b[0m\u001b[0;34m)\u001b[0m\u001b[0;34m\u001b[0m\u001b[0;34m\u001b[0m\u001b[0m\n",
            "\u001b[0;32m/usr/local/lib/python3.12/dist-packages/IPython/core/ultratb.py\u001b[0m in \u001b[0;36mfind_recursion\u001b[0;34m(etype, value, records)\u001b[0m\n\u001b[1;32m    380\u001b[0m     \u001b[0;31m# first frame (from in to out) that looks different.\u001b[0m\u001b[0;34m\u001b[0m\u001b[0;34m\u001b[0m\u001b[0m\n\u001b[1;32m    381\u001b[0m     \u001b[0;32mif\u001b[0m \u001b[0;32mnot\u001b[0m \u001b[0mis_recursion_error\u001b[0m\u001b[0;34m(\u001b[0m\u001b[0metype\u001b[0m\u001b[0;34m,\u001b[0m \u001b[0mvalue\u001b[0m\u001b[0;34m,\u001b[0m \u001b[0mrecords\u001b[0m\u001b[0;34m)\u001b[0m\u001b[0;34m:\u001b[0m\u001b[0;34m\u001b[0m\u001b[0;34m\u001b[0m\u001b[0m\n\u001b[0;32m--> 382\u001b[0;31m         \u001b[0;32mreturn\u001b[0m \u001b[0mlen\u001b[0m\u001b[0;34m(\u001b[0m\u001b[0mrecords\u001b[0m\u001b[0;34m)\u001b[0m\u001b[0;34m,\u001b[0m \u001b[0;36m0\u001b[0m\u001b[0;34m\u001b[0m\u001b[0;34m\u001b[0m\u001b[0m\n\u001b[0m\u001b[1;32m    383\u001b[0m \u001b[0;34m\u001b[0m\u001b[0m\n\u001b[1;32m    384\u001b[0m     \u001b[0;31m# Select filename, lineno, func_name to track frames with\u001b[0m\u001b[0;34m\u001b[0m\u001b[0;34m\u001b[0m\u001b[0m\n",
            "\u001b[0;31mTypeError\u001b[0m: object of type 'NoneType' has no len()"
          ]
        }
      ]
    }
  ]
}